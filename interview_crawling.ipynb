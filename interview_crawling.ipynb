{
 "cells": [
  {
   "cell_type": "code",
   "execution_count": null,
   "metadata": {},
   "outputs": [],
   "source": [
    "import os \n",
    "import re \n",
    "import json\n",
    "os.getcwd()"
   ]
  },
  {
   "cell_type": "code",
   "execution_count": 3,
   "metadata": {},
   "outputs": [],
   "source": [
    "path_dir = \"tech_interview.zip/인성/\"\n",
    "file_list = os.listdir(path_dir)\n",
    "interview_set = dict()"
   ]
  },
  {
   "cell_type": "code",
   "execution_count": 7,
   "metadata": {},
   "outputs": [
    {
     "name": "stdout",
     "output_type": "stream",
     "text": [
      "인성 FINISHED\n",
      "역량 FINISHED\n",
      "경험 FINISHED\n",
      "압박 FINISHED\n",
      "기타 FINISHED\n",
      "돌발창의성 FINISHED\n",
      "적합도 FINISHED\n",
      "IT FINISHED\n"
     ]
    }
   ],
   "source": [
    "filenames = [os.path.join(path_dir,x) for x in file_list] \n",
    "for file in filenames: \n",
    "    question_set = list() \n",
    "    title = re.sub(r\"\\.md\",'',file[24:])\n",
    "    with open(file, \"r\" ,encoding= 'utf-8') as f:\n",
    "        result = f.readlines()\n",
    "\n",
    "        for line in result:\n",
    "            if re.search('^#',line) or re.search(\"^###\" , line): continue\n",
    "            if re.search('^<br>',line) : continue\n",
    "            line = re.sub(r'\\n|\\-|\\<br>\\\\n|\\<br>','',line) \n",
    "            question_set.append(line)\n",
    "        \n",
    "        interview_set[title] =  question_set\n",
    "        \n",
    "    print(f\"{title} FINISHED\")                 "
   ]
  },
  {
   "cell_type": "code",
   "execution_count": 8,
   "metadata": {},
   "outputs": [],
   "source": [
    "with open(\"cogs/data/interview.json\" , \"w\", encoding='utf-8') as f:\n",
    "    json.dump(interview_set, f, indent=4, ensure_ascii=False)"
   ]
  },
  {
   "cell_type": "code",
   "execution_count": null,
   "metadata": {},
   "outputs": [],
   "source": []
  }
 ],
 "metadata": {
  "interpreter": {
   "hash": "9ccb8ad3244050595930a0fcf31ccb7da133f814cdfc5048019b2ea63717ec5c"
  },
  "kernelspec": {
   "display_name": "Python 3.9.5 64-bit",
   "language": "python",
   "name": "python3"
  },
  "language_info": {
   "codemirror_mode": {
    "name": "ipython",
    "version": 3
   },
   "file_extension": ".py",
   "mimetype": "text/x-python",
   "name": "python",
   "nbconvert_exporter": "python",
   "pygments_lexer": "ipython3",
   "version": "3.9.5"
  },
  "orig_nbformat": 4
 },
 "nbformat": 4,
 "nbformat_minor": 2
}
